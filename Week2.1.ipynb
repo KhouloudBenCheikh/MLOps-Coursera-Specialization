{
 "cells": [
  {
   "cell_type": "markdown",
   "metadata": {},
   "source": [
    "1. Write a function to convert temperatures from Fahrenheit to Celsius."
   ]
  },
  {
   "cell_type": "code",
   "execution_count": 9,
   "metadata": {},
   "outputs": [
    {
     "name": "stdout",
     "output_type": "stream",
     "text": [
      "Temperature 105.0 in Celsius is 40.55555555555556\n"
     ]
    }
   ],
   "source": [
    "def fahrenheit_to_celsius(fahrenheit):\n",
    "    celsius = (fahrenheit - 32) * 5/9\n",
    "    return celsius\n",
    "\n",
    "# Example usage\n",
    "temperature_fahrenheit = float(input(\"Enter temperature in Fahrenheit: \"))\n",
    "temperature_celsius = fahrenheit_to_celsius(temperature_fahrenheit)\n",
    "print(f\"Temperature {temperature_fahrenheit} in Celsius is\", temperature_celsius)"
   ]
  },
  {
   "cell_type": "markdown",
   "metadata": {},
   "source": [
    "2. Create a function that prints some output based on input."
   ]
  },
  {
   "cell_type": "code",
   "execution_count": 10,
   "metadata": {},
   "outputs": [
    {
     "name": "stdout",
     "output_type": "stream",
     "text": [
      "Hello ^^ How can I help you ?!\n"
     ]
    }
   ],
   "source": [
    "def print_output(input_value):\n",
    "    if input_value == \"Hello\":\n",
    "        print(\"Hello ^^ How can I help you ?!\")\n",
    "    elif input_value.isdigit():\n",
    "        print(\"You entered a number:\", input_value)\n",
    "    else:\n",
    "        print(\"You entered:\", input_value)\n",
    "\n",
    "user_input = input(\"Enter something: \")\n",
    "print_output(user_input)"
   ]
  },
  {
   "cell_type": "markdown",
   "metadata": {},
   "source": [
    "3. Define a function that returns a random number."
   ]
  },
  {
   "cell_type": "code",
   "execution_count": 11,
   "metadata": {},
   "outputs": [
    {
     "name": "stdout",
     "output_type": "stream",
     "text": [
      "Random number: 14\n"
     ]
    }
   ],
   "source": [
    "import random\n",
    "\n",
    "def get_random_number():\n",
    "    return random.randint(1, 100)\n",
    "\n",
    "random_number = get_random_number()\n",
    "print(\"Random number:\", random_number)"
   ]
  },
  {
   "cell_type": "markdown",
   "metadata": {},
   "source": [
    "4. Implement a function that calculates the area of various shapes depending on arguments."
   ]
  },
  {
   "cell_type": "code",
   "execution_count": 12,
   "metadata": {},
   "outputs": [
    {
     "name": "stdout",
     "output_type": "stream",
     "text": [
      "Area of square: 25\n",
      "Area of rectangle: 24\n",
      "Area of circle: 28.274333882308138\n",
      "Area of triangle: 14.0\n"
     ]
    }
   ],
   "source": [
    "import math\n",
    "\n",
    "def calculate_area(shape, *args):\n",
    "    if shape == \"square\":\n",
    "        side = args[0]\n",
    "        area = side ** 2\n",
    "    elif shape == \"rectangle\":\n",
    "        length, width = args\n",
    "        area = length * width\n",
    "    elif shape == \"circle\":\n",
    "        radius = args[0]\n",
    "        area = math.pi * (radius ** 2)\n",
    "    elif shape == \"triangle\":\n",
    "        base, height = args\n",
    "        area = 0.5 * base * height\n",
    "    else:\n",
    "        raise ValueError(\"Unsupported shape\")\n",
    "\n",
    "    return area\n",
    "\n",
    "square_area = calculate_area(\"square\", 5)\n",
    "print(\"Area of square:\", square_area)\n",
    "\n",
    "rectangle_area = calculate_area(\"rectangle\", 4, 6)\n",
    "print(\"Area of rectangle:\", rectangle_area)\n",
    "\n",
    "circle_area = calculate_area(\"circle\", 3)\n",
    "print(\"Area of circle:\", circle_area)\n",
    "\n",
    "triangle_area = calculate_area(\"triangle\", 4, 7)\n",
    "print(\"Area of triangle:\", triangle_area)"
   ]
  },
  {
   "cell_type": "markdown",
   "metadata": {},
   "source": [
    "5. Write a reusable greeting function that takes a name input."
   ]
  },
  {
   "cell_type": "code",
   "execution_count": 13,
   "metadata": {},
   "outputs": [
    {
     "name": "stdout",
     "output_type": "stream",
     "text": [
      "Hello Khouloud ^^\n"
     ]
    }
   ],
   "source": [
    "def print_output(input_value):\n",
    "    user_input = input(\"Enter your name please: \")\n",
    "    print(f\"Hello {user_input} ^^\")\n",
    "\n",
    "\n",
    "print_output(user_input)"
   ]
  }
 ],
 "metadata": {
  "kernelspec": {
   "display_name": "Python 3",
   "language": "python",
   "name": "python3"
  },
  "language_info": {
   "codemirror_mode": {
    "name": "ipython",
    "version": 3
   },
   "file_extension": ".py",
   "mimetype": "text/x-python",
   "name": "python",
   "nbconvert_exporter": "python",
   "pygments_lexer": "ipython3",
   "version": "3.10.8"
  }
 },
 "nbformat": 4,
 "nbformat_minor": 2
}
